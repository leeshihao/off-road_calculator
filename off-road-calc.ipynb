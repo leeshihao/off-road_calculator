{
 "cells": [
  {
   "cell_type": "code",
   "execution_count": 6,
   "metadata": {},
   "outputs": [],
   "source": [
    "import numpy as np"
   ]
  },
  {
   "cell_type": "code",
   "execution_count": 49,
   "metadata": {},
   "outputs": [],
   "source": [
    "r1 = 4\n",
    "r2 = 5\n",
    "r3 = 6\n",
    "r4 = 6\n",
    "r5 = 10\n",
    "r6 = 15"
   ]
  },
  {
   "cell_type": "code",
   "execution_count": 50,
   "metadata": {},
   "outputs": [
    {
     "name": "stdout",
     "output_type": "stream",
     "text": [
      "possible arbitrage!\n"
     ]
    }
   ],
   "source": [
    "returns = np.array([r1, r2, r3, r4, r5, r6])\n",
    "odds = 1/returns\n",
    "if np.sum(odds) < 1:\n",
    "    print(\"possible arbitrage!\")\n",
    "else:\n",
    "    print(\"no winnings available\")"
   ]
  },
  {
   "cell_type": "code",
   "execution_count": 51,
   "metadata": {},
   "outputs": [],
   "source": [
    "def winnings(ret, stake):\n",
    "    if stake > 4:\n",
    "        return ret*stake - np.ceil((stake-4)/8)\n",
    "    else:\n",
    "        return ret*stake"
   ]
  },
  {
   "cell_type": "code",
   "execution_count": 52,
   "metadata": {},
   "outputs": [],
   "source": [
    "stake = np.ones(6)\n",
    "win = np.zeros(6)\n",
    "for i in range(6):\n",
    "    win[i] = winnings(returns[i], stake[i])"
   ]
  },
  {
   "cell_type": "code",
   "execution_count": 57,
   "metadata": {},
   "outputs": [],
   "source": [
    "arbitrage = False\n",
    "total_cost = np.sum(stake)\n",
    "# max_win = 0\n",
    "res_stake = stake[:]\n",
    "while total_cost < 30:\n",
    "    if np.any(stake>12):\n",
    "        break\n",
    "    if np.all(win>=total_cost):\n",
    "        # print(\"arbitrage found! stake:\", stake)\n",
    "        arbitrage = True\n",
    "        # if np.sum(win) - 6*total_cost > max_win:\n",
    "        #     res_stake = stake[:]\n",
    "        #     max_win = np.sum(win) - 6*total_cost\n",
    "        break\n",
    "    for i in range(6):\n",
    "        if win[i] < total_cost:\n",
    "            stake[i] += 1\n",
    "            win[i] = winnings(returns[i], stake[i])\n",
    "    total_cost = np.sum(stake)"
   ]
  },
  {
   "cell_type": "code",
   "execution_count": 58,
   "metadata": {},
   "outputs": [
    {
     "name": "stdout",
     "output_type": "stream",
     "text": [
      "arbitrage found! stake: [8. 6. 5. 5. 3. 2.]\n"
     ]
    }
   ],
   "source": [
    "if arbitrage:\n",
    "    print(\"arbitrage found! stake:\", stake) #, \"max_win:\", max_win)\n",
    "else:\n",
    "    print(\"no arbitrage found\")"
   ]
  },
  {
   "cell_type": "code",
   "execution_count": null,
   "metadata": {},
   "outputs": [],
   "source": []
  }
 ],
 "metadata": {
  "kernelspec": {
   "display_name": "Python 3",
   "language": "python",
   "name": "python3"
  },
  "language_info": {
   "codemirror_mode": {
    "name": "ipython",
    "version": 3
   },
   "file_extension": ".py",
   "mimetype": "text/x-python",
   "name": "python",
   "nbconvert_exporter": "python",
   "pygments_lexer": "ipython3",
   "version": "3.9.6"
  }
 },
 "nbformat": 4,
 "nbformat_minor": 2
}
